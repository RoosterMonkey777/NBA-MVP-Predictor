{
 "cells": [
  {
   "cell_type": "markdown",
   "id": "840a4b2b-c414-4965-b0b6-314362e67bc8",
   "metadata": {},
   "source": [
    "# NBA MVP Prediction \n",
    " \n",
    "https://www.youtube.com/watch?v=JGQGd-oa0l4&ab_channel=Dataquest\n",
    " \n",
    "This project is using nba data to predict the next NBA MVP using data from https://www.basketball-reference.com/\n",
    "\n",
    "Install requests library which allows to download web pages"
   ]
  },
  {
   "cell_type": "code",
   "execution_count": null,
   "id": "9e5fc825-fef4-4f5d-83f6-58981f735fee",
   "metadata": {},
   "outputs": [],
   "source": []
  }
 ],
 "metadata": {
  "kernelspec": {
   "display_name": "Python 3 (ipykernel)",
   "language": "python",
   "name": "python3"
  },
  "language_info": {
   "codemirror_mode": {
    "name": "ipython",
    "version": 3
   },
   "file_extension": ".py",
   "mimetype": "text/x-python",
   "name": "python",
   "nbconvert_exporter": "python",
   "pygments_lexer": "ipython3",
   "version": "3.11.7"
  }
 },
 "nbformat": 4,
 "nbformat_minor": 5
}
